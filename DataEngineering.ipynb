{
 "cells": [
  {
   "cell_type": "code",
   "execution_count": 1,
   "id": "3c5511ac",
   "metadata": {},
   "outputs": [],
   "source": [
    "# Importing essential libraries\n",
    "import pandas as pd\n",
    "from sklearn import preprocessing, impute, model_selection, compose"
   ]
  },
  {
   "cell_type": "code",
   "execution_count": 2,
   "id": "462662c3",
   "metadata": {},
   "outputs": [],
   "source": [
    "# Reading data\n",
    "df = pd.read_csv('data.csv')\n",
    "df.drop('car_ID',axis=1,inplace=True)\n",
    "# Split in feature and target for future purpose\n",
    "features = df.drop(['CarName','price'],axis=1)\n",
    "target = df.price\n",
    "\n",
    "# Names of numerical and categorical features\n",
    "numerical_features = [col for col in features.columns if features[col].dtypes!='O']\n",
    "categorical_features = [col for col in features.columns if col not in numerical_features]\n",
    "\n",
    "# Train test split\n",
    "x_train,x_test,y_train,y_test = model_selection.train_test_split(features,target,random_state=32)"
   ]
  },
  {
   "cell_type": "code",
   "execution_count": 3,
   "id": "1254df09",
   "metadata": {},
   "outputs": [],
   "source": [
    "# No need to deal with missing values"
   ]
  },
  {
   "cell_type": "code",
   "execution_count": 4,
   "id": "7c8a7557",
   "metadata": {},
   "outputs": [],
   "source": [
    "# Nominal features\n",
    "nominal_features = ['fueltype','aspiration','doornumber','carbody','drivewheel','enginelocation','enginetype','cylindernumber','fuelsystem']"
   ]
  },
  {
   "cell_type": "code",
   "execution_count": 5,
   "id": "49b94588",
   "metadata": {},
   "outputs": [
    {
     "name": "stdout",
     "output_type": "stream",
     "text": [
      "Number of categories in every feature are 38 \n",
      "\n",
      "Numbe of categories we got after encoding are 29 \n",
      "\n",
      "-----------------------------------------------------------------------\n",
      "\n",
      "Number of categories in \"fueltype\" named column are :- 2 \n",
      "\n",
      "Number of categories in \"aspiration\" named column are :- 2 \n",
      "\n",
      "Number of categories in \"doornumber\" named column are :- 2 \n",
      "\n",
      "Number of categories in \"carbody\" named column are :- 5 \n",
      "\n",
      "Number of categories in \"drivewheel\" named column are :- 3 \n",
      "\n",
      "Number of categories in \"enginelocation\" named column are :- 2 \n",
      "\n",
      "Number of categories in \"enginetype\" named column are :- 7 \n",
      "\n",
      "Number of categories in \"cylindernumber\" named column are :- 7 \n",
      "\n",
      "Number of categories in \"fuelsystem\" named column are :- 8 \n",
      "\n"
     ]
    }
   ],
   "source": [
    "## Total number of categories in every feature\n",
    "no_of_categories = 0\n",
    "for i in categorical_features:\n",
    "    no_of_categories = no_of_categories + len(features[i].unique())\n",
    "print(f'Number of categories in every feature are {no_of_categories} \\n')\n",
    "print(f'Numbe of categories we got after encoding are {no_of_categories - len(categorical_features)} \\n')\n",
    "print('-----------------------------------------------------------------------\\n')\n",
    "\n",
    "for i in categorical_features:\n",
    "    print(f'Number of categories in \"{i}\" named column are :- {len(features[i].unique())} \\n')"
   ]
  },
  {
   "cell_type": "code",
   "execution_count": 6,
   "id": "86336939",
   "metadata": {},
   "outputs": [],
   "source": [
    "# As we know it is regression problem, we also need to scale the features\n",
    "transform = compose.make_column_transformer(\n",
    "    (preprocessing.StandardScaler(),numerical_features),\n",
    "    (preprocessing.OneHotEncoder(drop = 'first'),categorical_features),\n",
    "    remainder='passthrough'\n",
    ")"
   ]
  },
  {
   "cell_type": "code",
   "execution_count": 7,
   "id": "18122175",
   "metadata": {},
   "outputs": [],
   "source": [
    "# For tree based, we dont require feature scaling so make another transformer with scaling\n",
    "tree_transform = compose.make_column_transformer(\n",
    "    (preprocessing.OneHotEncoder(drop = 'first'),categorical_features),\n",
    "    remainder = 'passthrough'\n",
    ")"
   ]
  }
 ],
 "metadata": {
  "kernelspec": {
   "display_name": "Python 3 (ipykernel)",
   "language": "python",
   "name": "python3"
  },
  "language_info": {
   "codemirror_mode": {
    "name": "ipython",
    "version": 3
   },
   "file_extension": ".py",
   "mimetype": "text/x-python",
   "name": "python",
   "nbconvert_exporter": "python",
   "pygments_lexer": "ipython3",
   "version": "3.10.4"
  }
 },
 "nbformat": 4,
 "nbformat_minor": 5
}
