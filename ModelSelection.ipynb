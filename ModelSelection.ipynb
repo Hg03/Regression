{
 "cells": [
  {
   "cell_type": "code",
   "execution_count": 1,
   "id": "035e47b5",
   "metadata": {},
   "outputs": [],
   "source": [
    "# Importing essential libraries\n",
    "import pandas as pd\n",
    "import joblib as jb\n",
    "from sklearn import preprocessing, metrics, impute, model_selection, compose, linear_model, tree, svm, ensemble"
   ]
  },
  {
   "cell_type": "code",
   "execution_count": 2,
   "id": "bc5cd63c",
   "metadata": {},
   "outputs": [],
   "source": [
    "# Reading data\n",
    "df = pd.read_csv('data.csv')\n",
    "df.drop('car_ID',axis=1,inplace=True)\n",
    "# Split in feature and target for future purpose\n",
    "features = df.drop(['CarName','price'],axis=1)\n",
    "target = df.price\n",
    "\n",
    "# Names of numerical and categorical features\n",
    "numerical_features = [col for col in features.columns if features[col].dtypes!='O']\n",
    "categorical_features = [col for col in features.columns if col not in numerical_features]\n",
    "\n",
    "# Train test split\n",
    "x_train,x_test,y_train,y_test = model_selection.train_test_split(features,target,random_state=32)\n",
    "\n",
    "# Nominal features\n",
    "nominal_features = ['fueltype','aspiration','doornumber','carbody','drivewheel','enginelocation','enginetype','cylindernumber','fuelsystem']"
   ]
  },
  {
   "cell_type": "code",
   "execution_count": 3,
   "id": "76fef043",
   "metadata": {},
   "outputs": [],
   "source": [
    "cleaning_pipeline_with_scaler = jb.load('cleanpipeline1.jb')\n",
    "cleaning_pipeline_witthout_scaler = jb.load('cleanpipeline2.jb')"
   ]
  },
  {
   "cell_type": "code",
   "execution_count": null,
   "id": "a4afa3fd",
   "metadata": {},
   "outputs": [],
   "source": [
    "def compare_models_notree(x_train,x_test,y_train,y_test):\n",
    "    score_table = {\n",
    "        'Classifiers': ['Linear Regression','Ridge Regression','Lasso Regression','Support Vector Regression','Huber Regression'],\n",
    "        'r_square':[],\n",
    "        'mae':[],\n",
    "        'mse': []\n",
    "    }\n",
    "    models = {'Linreg':linear_model.LinearRegression(),'ridge':linear_model.Ridge(),'lasso':linear_model.Lasso(),'svr':svm.SVR(),'huber':linear_model.HuberRegressor()}\n",
    "    for model in models:\n",
    "        models[model].fit(x_train.copy(),y_train.copy())\n",
    "        y_pred = models[model].predict(x_test.copy())\n",
    "        score_table['r_square'].append(metrics.r2_score(y_test.copy(),y_pred))\n",
    "        score_table['mae'].append(metrics.mean_absolute_error(y_test.copy(),y_pred))\n",
    "        score_table['mse'].append(metrics.mean_squared_error(y_test.copy(),y_pred))\n",
    "        \n",
    "    return pd.DataFrame(score_table)\n",
    "\n",
    "compare_models_notree(cleaning_pipeline_with_scaler.fit_transform(x_train),cleaning_pipeline_with_scaler.transform(x_test),y_train,y_test)"
   ]
  },
  {
   "cell_type": "code",
   "execution_count": null,
   "id": "693fd609",
   "metadata": {},
   "outputs": [],
   "source": [
    "# Without using any tree regressor, Huber Regression is performing great, let's see tree regressors"
   ]
  },
  {
   "cell_type": "code",
   "execution_count": 4,
   "id": "81ceb7e4",
   "metadata": {},
   "outputs": [
    {
     "name": "stderr",
     "output_type": "stream",
     "text": [
      "/home/harish/.local/lib/python3.10/site-packages/sklearn/preprocessing/_encoders.py:188: UserWarning: Found unknown categories in columns [7, 8] during transform. These unknown categories will be encoded as all zeros\n",
      "  warnings.warn(\n"
     ]
    },
    {
     "data": {
      "text/html": [
       "<div>\n",
       "<style scoped>\n",
       "    .dataframe tbody tr th:only-of-type {\n",
       "        vertical-align: middle;\n",
       "    }\n",
       "\n",
       "    .dataframe tbody tr th {\n",
       "        vertical-align: top;\n",
       "    }\n",
       "\n",
       "    .dataframe thead th {\n",
       "        text-align: right;\n",
       "    }\n",
       "</style>\n",
       "<table border=\"1\" class=\"dataframe\">\n",
       "  <thead>\n",
       "    <tr style=\"text-align: right;\">\n",
       "      <th></th>\n",
       "      <th>Classifiers</th>\n",
       "      <th>r_square</th>\n",
       "      <th>mae</th>\n",
       "      <th>mse</th>\n",
       "    </tr>\n",
       "  </thead>\n",
       "  <tbody>\n",
       "    <tr>\n",
       "      <th>0</th>\n",
       "      <td>Decision Tree</td>\n",
       "      <td>0.919416</td>\n",
       "      <td>1394.653846</td>\n",
       "      <td>3.835633e+06</td>\n",
       "    </tr>\n",
       "    <tr>\n",
       "      <th>1</th>\n",
       "      <td>Random Forest</td>\n",
       "      <td>0.960129</td>\n",
       "      <td>1064.201651</td>\n",
       "      <td>1.897794e+06</td>\n",
       "    </tr>\n",
       "    <tr>\n",
       "      <th>2</th>\n",
       "      <td>ADABoost</td>\n",
       "      <td>0.930558</td>\n",
       "      <td>1496.739938</td>\n",
       "      <td>3.305297e+06</td>\n",
       "    </tr>\n",
       "  </tbody>\n",
       "</table>\n",
       "</div>"
      ],
      "text/plain": [
       "     Classifiers  r_square          mae           mse\n",
       "0  Decision Tree  0.919416  1394.653846  3.835633e+06\n",
       "1  Random Forest  0.960129  1064.201651  1.897794e+06\n",
       "2       ADABoost  0.930558  1496.739938  3.305297e+06"
      ]
     },
     "execution_count": 4,
     "metadata": {},
     "output_type": "execute_result"
    }
   ],
   "source": [
    "def compare_models_tree(x_train,x_test,y_train,y_test):\n",
    "    score_table = {\n",
    "        'Classifiers': ['Decision Tree','Random Forest','ADABoost'],\n",
    "        'r_square':[],\n",
    "        'mae':[],\n",
    "        'mse': []\n",
    "    }\n",
    "    models = {'dt':tree.DecisionTreeRegressor(),'rf':ensemble.RandomForestRegressor(),'ada':ensemble.AdaBoostRegressor()}\n",
    "    for model in models:\n",
    "        models[model].fit(x_train.copy(),y_train.copy())\n",
    "        y_pred = models[model].predict(x_test.copy())\n",
    "        score_table['r_square'].append(metrics.r2_score(y_test.copy(),y_pred))\n",
    "        score_table['mae'].append(metrics.mean_absolute_error(y_test.copy(),y_pred))\n",
    "        score_table['mse'].append(metrics.mean_squared_error(y_test.copy(),y_pred))\n",
    "        \n",
    "    return pd.DataFrame(score_table)\n",
    "\n",
    "compare_models_tree(cleaning_pipeline_with_scaler.fit_transform(x_train),cleaning_pipeline_with_scaler.transform(x_test),y_train,y_test)"
   ]
  },
  {
   "cell_type": "code",
   "execution_count": 5,
   "id": "05c44fba",
   "metadata": {},
   "outputs": [],
   "source": [
    "# Boooom , tree regressor is winning by the way i.e. Random Forest Regression"
   ]
  },
  {
   "cell_type": "code",
   "execution_count": null,
   "id": "7e85502c",
   "metadata": {},
   "outputs": [],
   "source": []
  }
 ],
 "metadata": {
  "kernelspec": {
   "display_name": "Python 3 (ipykernel)",
   "language": "python",
   "name": "python3"
  },
  "language_info": {
   "codemirror_mode": {
    "name": "ipython",
    "version": 3
   },
   "file_extension": ".py",
   "mimetype": "text/x-python",
   "name": "python",
   "nbconvert_exporter": "python",
   "pygments_lexer": "ipython3",
   "version": "3.10.4"
  }
 },
 "nbformat": 4,
 "nbformat_minor": 5
}
